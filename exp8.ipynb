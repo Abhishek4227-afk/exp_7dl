{
  "nbformat": 4,
  "nbformat_minor": 0,
  "metadata": {
    "colab": {
      "provenance": [],
      "authorship_tag": "ABX9TyPCfgUpMOHrebTwEgAxS3mR",
      "include_colab_link": true
    },
    "kernelspec": {
      "name": "python3",
      "display_name": "Python 3"
    },
    "language_info": {
      "name": "python"
    }
  },
  "cells": [
    {
      "cell_type": "markdown",
      "metadata": {
        "id": "view-in-github",
        "colab_type": "text"
      },
      "source": [
        "<a href=\"https://colab.research.google.com/github/Abhishek4227-afk/exp_7dl/blob/main/exp8.ipynb\" target=\"_parent\"><img src=\"https://colab.research.google.com/assets/colab-badge.svg\" alt=\"Open In Colab\"/></a>"
      ]
    },
    {
      "cell_type": "code",
      "source": [
        "from tensorflow.keras.preprocessing.text import one_hot\n",
        "\n",
        "# Define the list of words\n",
        "words = ['apple', 'banana', 'cherry', 'apple', 'cherry', 'banana', 'apple']\n",
        "\n",
        "# Create a vocabulary of unique words\n",
        "vocab = set(words)\n",
        "\n",
        "# Assign a unique integer to each word in the vocabulary\n",
        "word_to_int = {word: i for i, word in enumerate(vocab)}\n",
        "\n",
        "# Convert the list of words to a list of integers using the vocabulary\n",
        "int_words = [word_to_int[word] for word in words]\n",
        "\n",
        "# Perform one-hot encoding of the integer sequence\n",
        "one_hot_words = []\n",
        "for int_word in int_words:\n",
        "    # Indent the code block within the for loop\n",
        "    one_hot_word = [0] * len(vocab)\n",
        "    one_hot_word[int_word] = 1\n",
        "    one_hot_words.append(one_hot_word)\n",
        "\n",
        "print(one_hot_words)"
      ],
      "metadata": {
        "colab": {
          "base_uri": "https://localhost:8080/"
        },
        "id": "F6P91tA4vZzd",
        "outputId": "e871ec88-6aea-4743-f17c-5828636267f5"
      },
      "execution_count": 4,
      "outputs": [
        {
          "output_type": "stream",
          "name": "stdout",
          "text": [
            "[[1, 0, 0], [0, 0, 1], [0, 1, 0], [1, 0, 0], [0, 1, 0], [0, 0, 1], [1, 0, 0]]\n"
          ]
        }
      ]
    },
    {
      "cell_type": "code",
      "source": [
        "#program 2\n",
        "import string\n",
        "\n",
        "\n",
        "# Define the input string\n",
        "input_string = 'hello world'\n",
        "\n",
        "# Create a vocabulary of unique characters\n",
        "vocab = set(input_string)\n",
        "\n",
        "# Assign a unique integer to each character in the vocabulary\n",
        "char_to_int = {char: i for i, char in enumerate(vocab)}\n",
        "\n",
        "# Convert the input string to a list of integers using the vocabulary\n",
        "int_chars = [char_to_int[char] for char in input_string]\n",
        "\n",
        "# Perform one-hot encoding of the integer sequence\n",
        "one_hot_chars = []\n",
        "for int_char in int_chars:\n",
        "    # Indented the lines within the for loop\n",
        "    one_hot_char = [0] * len(vocab)\n",
        "    one_hot_char[int_char] = 1\n",
        "    one_hot_chars.append(one_hot_char)\n",
        "\n",
        "print(one_hot_chars)"
      ],
      "metadata": {
        "id": "Gcm1CnpHvsW7",
        "outputId": "2c35b4ff-2b48-4888-83ee-a1b8c92a346d",
        "colab": {
          "base_uri": "https://localhost:8080/"
        }
      },
      "execution_count": 6,
      "outputs": [
        {
          "output_type": "stream",
          "name": "stdout",
          "text": [
            "[[0, 0, 0, 1, 0, 0, 0, 0], [0, 0, 0, 0, 0, 1, 0, 0], [0, 0, 1, 0, 0, 0, 0, 0], [0, 0, 1, 0, 0, 0, 0, 0], [0, 0, 0, 0, 1, 0, 0, 0], [0, 1, 0, 0, 0, 0, 0, 0], [1, 0, 0, 0, 0, 0, 0, 0], [0, 0, 0, 0, 1, 0, 0, 0], [0, 0, 0, 0, 0, 0, 0, 1], [0, 0, 1, 0, 0, 0, 0, 0], [0, 0, 0, 0, 0, 0, 1, 0]]\n"
          ]
        }
      ]
    }
  ]
}